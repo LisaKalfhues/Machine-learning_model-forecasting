{
 "cells": [
  {
   "attachments": {},
   "cell_type": "markdown",
   "metadata": {},
   "source": [
    "### Machine learning: Model forecasting\n",
    "##### Business goal: Predict future temperature using an autoregressive model\n",
    "##### Data set: ECAD temperature data from Berlin-Tempelhof"
   ]
  },
  {
   "cell_type": "code",
   "execution_count": 19,
   "metadata": {},
   "outputs": [],
   "source": [
    "import pandas as pd\n",
    "import matplotlib.pyplot as plt\n",
    "%matplotlib inline\n",
    "plt.style.use(\"ggplot\")\n",
    "from statsmodels.tsa import stattools\n",
    "from statsmodels.tsa.ar_model import AutoReg, ar_select_order\n",
    "from sklearn.linear_model import LinearRegression\n",
    "plt.rcParams['figure.figsize'] = (12, 6)"
   ]
  },
  {
   "cell_type": "code",
   "execution_count": 20,
   "metadata": {},
   "outputs": [],
   "source": [
    "# import data as df\n",
    "df =  pd.read_csv('../data/temp_modified.csv', index_col=0, parse_dates=True)"
   ]
  },
  {
   "cell_type": "code",
   "execution_count": 21,
   "metadata": {},
   "outputs": [],
   "source": [
    "df['year']= df.index.year\n",
    "df['timestep'] = range(len(df)) # add column named \"timestep\" with the lenght of the dataframe df\n",
    "df"
   ]
  },
  {
   "cell_type": "code",
   "execution_count": 23,
   "metadata": {},
   "outputs": [
    {
     "data": {
      "text/plain": [
       "Int64Index([1, 1, 1, 1, 1, 1, 1, 1, 1, 1,\n",
       "            ...\n",
       "            1, 1, 1, 1, 1, 1, 1, 1, 1, 1],\n",
       "           dtype='int64', name='date', length=53722)"
      ]
     },
     "execution_count": 23,
     "metadata": {},
     "output_type": "execute_result"
    }
   ],
   "source": [
    "df.index.month"
   ]
  },
  {
   "cell_type": "code",
   "execution_count": 24,
   "metadata": {},
   "outputs": [],
   "source": [
    "# convert categorical variables into dummy/indicator variables\n",
    "seasonal_dummies = pd.get_dummies(df.index.month, prefix='month', drop_first=True).set_index(df.index)\n",
    "df = df.join(seasonal_dummies)"
   ]
  },
  {
   "cell_type": "code",
   "execution_count": 26,
   "metadata": {},
   "outputs": [],
   "source": [
    "X = df.drop(['temperature'], axis=1)\n",
    "y = df['temperature']"
   ]
  },
  {
   "cell_type": "code",
   "execution_count": 27,
   "metadata": {},
   "outputs": [
    {
     "data": {
      "text/plain": [
       "LinearRegression()"
      ]
     },
     "execution_count": 27,
     "metadata": {},
     "output_type": "execute_result"
    }
   ],
   "source": [
    "m = LinearRegression()\n",
    "m.fit(X, y)"
   ]
  },
  {
   "cell_type": "code",
   "execution_count": 28,
   "metadata": {},
   "outputs": [],
   "source": [
    "# calculate remainder\n",
    "df['trend_seasonal'] = m.predict(X)\n",
    "df['differences'] = df['temperature'] - df['trend_seasonal']"
   ]
  },
  {
   "attachments": {},
   "cell_type": "markdown",
   "metadata": {},
   "source": [
    "## Using autoregressive model\n"
   ]
  },
  {
   "cell_type": "code",
   "execution_count": 30,
   "metadata": {},
   "outputs": [
    {
     "name": "stderr",
     "output_type": "stream",
     "text": [
      "/Users/lisakalfhues/opt/anaconda3/lib/python3.9/site-packages/statsmodels/tsa/base/tsa_model.py:471: ValueWarning: No frequency information was provided, so inferred frequency D will be used.\n",
      "  self._init_dates(dates, freq)\n",
      "/Users/lisakalfhues/opt/anaconda3/lib/python3.9/site-packages/statsmodels/tsa/base/tsa_model.py:471: ValueWarning: No frequency information was provided, so inferred frequency D will be used.\n",
      "  self._init_dates(dates, freq)\n"
     ]
    },
    {
     "data": {
      "text/plain": [
       "{(1, 2, 3, 4, 5): 242161.15925989382,\n",
       " (1, 2, 3, 4, 5, 6, 7): 242161.40850547323,\n",
       " (1, 2, 3, 4, 5, 6): 242161.74336996768,\n",
       " (1, 2, 3, 4, 5, 6, 7, 8): 242161.9265241778,\n",
       " (1, 2, 3, 4, 5, 6, 7, 8, 9): 242163.69160680243,\n",
       " (1, 2, 3, 4, 5, 6, 7, 8, 9, 10): 242165.61588013096,\n",
       " (1, 2, 3, 4, 5, 6, 7, 8, 9, 10, 11): 242167.2179981555,\n",
       " (1, 2, 3, 4, 5, 6, 7, 8, 9, 10, 11, 12): 242169.1976950869,\n",
       " (1, 2, 3, 4): 242169.98511948815,\n",
       " (1, 2, 3): 242182.20441693725,\n",
       " (1, 2): 242445.22963903632,\n",
       " (1,): 243408.6383739422,\n",
       " 0: 299235.46536032454}"
      ]
     },
     "execution_count": 30,
     "metadata": {},
     "output_type": "execute_result"
    }
   ],
   "source": [
    "\n",
    "selected_order = ar_select_order(df['differences'], maxlag=12)\n",
    "# finding the number of lags to use\n",
    "selected_order.ar_lags\n",
    "# estimate prediction error using AIC\n",
    "selected_order.aic"
   ]
  },
  {
   "cell_type": "code",
   "execution_count": 31,
   "metadata": {},
   "outputs": [
    {
     "name": "stderr",
     "output_type": "stream",
     "text": [
      "/Users/lisakalfhues/opt/anaconda3/lib/python3.9/site-packages/statsmodels/tsa/base/tsa_model.py:471: ValueWarning: No frequency information was provided, so inferred frequency D will be used.\n",
      "  self._init_dates(dates, freq)\n"
     ]
    },
    {
     "data": {
      "text/html": [
       "<table class=\"simpletable\">\n",
       "<caption>AutoReg Model Results</caption>\n",
       "<tr>\n",
       "  <th>Dep. Variable:</th>    <td>differences</td>   <th>  No. Observations:  </th>    <td>53722</td>   \n",
       "</tr>\n",
       "<tr>\n",
       "  <th>Model:</th>            <td>AutoReg(4)</td>    <th>  Log Likelihood     </th> <td>-121099.803</td>\n",
       "</tr>\n",
       "<tr>\n",
       "  <th>Method:</th>         <td>Conditional MLE</td> <th>  S.D. of innovations</th>    <td>2.306</td>   \n",
       "</tr>\n",
       "<tr>\n",
       "  <th>Date:</th>          <td>Mon, 10 Apr 2023</td> <th>  AIC                </th> <td>242209.605</td> \n",
       "</tr>\n",
       "<tr>\n",
       "  <th>Time:</th>              <td>14:00:12</td>     <th>  BIC                </th> <td>242254.063</td> \n",
       "</tr>\n",
       "<tr>\n",
       "  <th>Sample:</th>           <td>01-05-1876</td>    <th>  HQIC               </th> <td>242223.485</td> \n",
       "</tr>\n",
       "<tr>\n",
       "  <th></th>                 <td>- 01-31-2023</td>   <th>                     </th>      <td> </td>     \n",
       "</tr>\n",
       "</table>\n",
       "<table class=\"simpletable\">\n",
       "<tr>\n",
       "         <td></td>           <th>coef</th>     <th>std err</th>      <th>z</th>      <th>P>|z|</th>  <th>[0.025</th>    <th>0.975]</th>  \n",
       "</tr>\n",
       "<tr>\n",
       "  <th>differences.L1</th> <td>    0.9196</td> <td>    0.004</td> <td>  213.178</td> <td> 0.000</td> <td>    0.911</td> <td>    0.928</td>\n",
       "</tr>\n",
       "<tr>\n",
       "  <th>differences.L2</th> <td>   -0.1943</td> <td>    0.006</td> <td>  -33.178</td> <td> 0.000</td> <td>   -0.206</td> <td>   -0.183</td>\n",
       "</tr>\n",
       "<tr>\n",
       "  <th>differences.L3</th> <td>    0.0552</td> <td>    0.006</td> <td>    9.433</td> <td> 0.000</td> <td>    0.044</td> <td>    0.067</td>\n",
       "</tr>\n",
       "<tr>\n",
       "  <th>differences.L4</th> <td>    0.0163</td> <td>    0.004</td> <td>    3.770</td> <td> 0.000</td> <td>    0.008</td> <td>    0.025</td>\n",
       "</tr>\n",
       "</table>\n",
       "<table class=\"simpletable\">\n",
       "<caption>Roots</caption>\n",
       "<tr>\n",
       "    <td></td>   <th>            Real</th>  <th>         Imaginary</th> <th>         Modulus</th>  <th>        Frequency</th>\n",
       "</tr>\n",
       "<tr>\n",
       "  <th>AR.1</th> <td>           1.2579</td> <td>          -0.0000j</td> <td>           1.2579</td> <td>          -0.0000</td>\n",
       "</tr>\n",
       "<tr>\n",
       "  <th>AR.2</th> <td>           1.0066</td> <td>          -2.5135j</td> <td>           2.7076</td> <td>          -0.1894</td>\n",
       "</tr>\n",
       "<tr>\n",
       "  <th>AR.3</th> <td>           1.0066</td> <td>          +2.5135j</td> <td>           2.7076</td> <td>           0.1894</td>\n",
       "</tr>\n",
       "<tr>\n",
       "  <th>AR.4</th> <td>          -6.6673</td> <td>          -0.0000j</td> <td>           6.6673</td> <td>          -0.5000</td>\n",
       "</tr>\n",
       "</table>"
      ],
      "text/plain": [
       "<class 'statsmodels.iolib.summary.Summary'>\n",
       "\"\"\"\n",
       "                            AutoReg Model Results                             \n",
       "==============================================================================\n",
       "Dep. Variable:            differences   No. Observations:                53722\n",
       "Model:                     AutoReg(4)   Log Likelihood             -121099.803\n",
       "Method:               Conditional MLE   S.D. of innovations              2.306\n",
       "Date:                Mon, 10 Apr 2023   AIC                         242209.605\n",
       "Time:                        14:00:12   BIC                         242254.063\n",
       "Sample:                    01-05-1876   HQIC                        242223.485\n",
       "                         - 01-31-2023                                         \n",
       "==================================================================================\n",
       "                     coef    std err          z      P>|z|      [0.025      0.975]\n",
       "----------------------------------------------------------------------------------\n",
       "differences.L1     0.9196      0.004    213.178      0.000       0.911       0.928\n",
       "differences.L2    -0.1943      0.006    -33.178      0.000      -0.206      -0.183\n",
       "differences.L3     0.0552      0.006      9.433      0.000       0.044       0.067\n",
       "differences.L4     0.0163      0.004      3.770      0.000       0.008       0.025\n",
       "                                    Roots                                    \n",
       "=============================================================================\n",
       "                  Real          Imaginary           Modulus         Frequency\n",
       "-----------------------------------------------------------------------------\n",
       "AR.1            1.2579           -0.0000j            1.2579           -0.0000\n",
       "AR.2            1.0066           -2.5135j            2.7076           -0.1894\n",
       "AR.3            1.0066           +2.5135j            2.7076            0.1894\n",
       "AR.4           -6.6673           -0.0000j            6.6673           -0.5000\n",
       "-----------------------------------------------------------------------------\n",
       "\"\"\""
      ]
     },
     "execution_count": 31,
     "metadata": {},
     "output_type": "execute_result"
    }
   ],
   "source": [
    "ar_model = AutoReg(endog=df['differences'], lags=4, trend=\"n\").fit()\n",
    "ar_model.summary()"
   ]
  },
  {
   "cell_type": "code",
   "execution_count": 32,
   "metadata": {},
   "outputs": [
    {
     "name": "stderr",
     "output_type": "stream",
     "text": [
      "/Users/lisakalfhues/opt/anaconda3/lib/python3.9/site-packages/statsmodels/tsa/deterministic.py:302: UserWarning: Only PeriodIndexes, DatetimeIndexes with a frequency set, RangesIndexes, and Index with a unit increment support extending. The index is set will contain the position relative to the data length.\n",
      "  fcast_index = self._extend_index(index, steps, forecast_index)\n"
     ]
    },
    {
     "data": {
      "text/plain": [
       "2023-02-01    2.556548\n",
       "2023-02-02    1.854268\n",
       "2023-02-03    1.442957\n",
       "Freq: D, dtype: float64"
      ]
     },
     "execution_count": 32,
     "metadata": {},
     "output_type": "execute_result"
    }
   ],
   "source": [
    "# weather forcast\n",
    "ar_model.forecast(steps=3)"
   ]
  }
 ],
 "metadata": {
  "kernelspec": {
   "display_name": "base",
   "language": "python",
   "name": "python3"
  },
  "language_info": {
   "codemirror_mode": {
    "name": "ipython",
    "version": 3
   },
   "file_extension": ".py",
   "mimetype": "text/x-python",
   "name": "python",
   "nbconvert_exporter": "python",
   "pygments_lexer": "ipython3",
   "version": "3.9.13"
  },
  "orig_nbformat": 4
 },
 "nbformat": 4,
 "nbformat_minor": 2
}
